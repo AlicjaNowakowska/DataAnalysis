{
 "cells": [
  {
   "cell_type": "markdown",
   "metadata": {},
   "source": [
    "# Distinguish between 4 different kinds of particles\n",
    "## Problem : multi class classification\n",
    "### Data :   simplified dataset of a GEANT based simulation of electron-proton inelastic scattering measured by a particle detector system.  https://www.kaggle.com/naharrison/particle-identification-from-detector-responses\n",
    "<b> Explanatory variables <b/> :\n",
    "* p - momentum (GeV/c)\n",
    "* theta - theta (rad)\n",
    "* beta - beta\n",
    "* nphe - number of photoelectrons\n",
    "* ein - inner energy (GeV)\n",
    "* eout - outer energy (GeV)<br>\n",
    "    \n",
    "<b> Response variable <b/> : id - particle type:  <br>\n",
    "* positron (-11)\n",
    "* pion (211)\n",
    "* kaon (321)\n",
    "* proton (2212) <br>\n"
   ]
  },
  {
   "cell_type": "code",
   "execution_count": 1,
   "metadata": {},
   "outputs": [
    {
     "name": "stderr",
     "output_type": "stream",
     "text": [
      "Using TensorFlow backend.\n"
     ]
    }
   ],
   "source": [
    "from __future__ import print_function\n",
    "import pandas as pd\n",
    "import numpy as np\n",
    "from sklearn import preprocessing\n",
    "import matplotlib.pyplot as plt \n",
    "from sklearn.linear_model import LogisticRegression\n",
    "from sklearn.model_selection import train_test_split\n",
    "import seaborn as sns\n",
    "import numpy as np\n",
    "from keras.datasets import mnist\n",
    "from keras.models import Sequential\n",
    "from keras.layers.core import Dense, Activation, Dropout\n",
    "from keras.optimizers import SGD\n",
    "from keras.utils import np_utils\n",
    "from keras.optimizers import RMSprop, Adam\n",
    "from sklearn.metrics import classification_report\n",
    "from sklearn.metrics import confusion_matrix,accuracy_score\n",
    "from sklearn.utils import shuffle\n",
    "import scikitplot as skplt "
   ]
  },
  {
   "cell_type": "code",
   "execution_count": 2,
   "metadata": {},
   "outputs": [
    {
     "data": {
      "text/html": [
       "<div>\n",
       "<style scoped>\n",
       "    .dataframe tbody tr th:only-of-type {\n",
       "        vertical-align: middle;\n",
       "    }\n",
       "\n",
       "    .dataframe tbody tr th {\n",
       "        vertical-align: top;\n",
       "    }\n",
       "\n",
       "    .dataframe thead th {\n",
       "        text-align: right;\n",
       "    }\n",
       "</style>\n",
       "<table border=\"1\" class=\"dataframe\">\n",
       "  <thead>\n",
       "    <tr style=\"text-align: right;\">\n",
       "      <th></th>\n",
       "      <th>id</th>\n",
       "      <th>p</th>\n",
       "      <th>theta</th>\n",
       "      <th>beta</th>\n",
       "      <th>nphe</th>\n",
       "      <th>ein</th>\n",
       "      <th>eout</th>\n",
       "    </tr>\n",
       "  </thead>\n",
       "  <tbody>\n",
       "    <tr>\n",
       "      <th>0</th>\n",
       "      <td>211</td>\n",
       "      <td>0.780041</td>\n",
       "      <td>1.081480</td>\n",
       "      <td>0.989962</td>\n",
       "      <td>0</td>\n",
       "      <td>0.000000</td>\n",
       "      <td>0.000000</td>\n",
       "    </tr>\n",
       "    <tr>\n",
       "      <th>1</th>\n",
       "      <td>211</td>\n",
       "      <td>0.260929</td>\n",
       "      <td>0.778892</td>\n",
       "      <td>0.902450</td>\n",
       "      <td>0</td>\n",
       "      <td>0.000000</td>\n",
       "      <td>0.000000</td>\n",
       "    </tr>\n",
       "    <tr>\n",
       "      <th>2</th>\n",
       "      <td>2212</td>\n",
       "      <td>0.773022</td>\n",
       "      <td>0.185953</td>\n",
       "      <td>0.642428</td>\n",
       "      <td>4</td>\n",
       "      <td>0.101900</td>\n",
       "      <td>0.000000</td>\n",
       "    </tr>\n",
       "    <tr>\n",
       "      <th>3</th>\n",
       "      <td>211</td>\n",
       "      <td>0.476997</td>\n",
       "      <td>0.445561</td>\n",
       "      <td>0.951471</td>\n",
       "      <td>0</td>\n",
       "      <td>0.000000</td>\n",
       "      <td>0.000000</td>\n",
       "    </tr>\n",
       "    <tr>\n",
       "      <th>4</th>\n",
       "      <td>2212</td>\n",
       "      <td>2.123290</td>\n",
       "      <td>0.337332</td>\n",
       "      <td>0.908652</td>\n",
       "      <td>0</td>\n",
       "      <td>0.034379</td>\n",
       "      <td>0.049256</td>\n",
       "    </tr>\n",
       "  </tbody>\n",
       "</table>\n",
       "</div>"
      ],
      "text/plain": [
       "     id         p     theta      beta  nphe       ein      eout\n",
       "0   211  0.780041  1.081480  0.989962     0  0.000000  0.000000\n",
       "1   211  0.260929  0.778892  0.902450     0  0.000000  0.000000\n",
       "2  2212  0.773022  0.185953  0.642428     4  0.101900  0.000000\n",
       "3   211  0.476997  0.445561  0.951471     0  0.000000  0.000000\n",
       "4  2212  2.123290  0.337332  0.908652     0  0.034379  0.049256"
      ]
     },
     "execution_count": 2,
     "metadata": {},
     "output_type": "execute_result"
    }
   ],
   "source": [
    "data=pd.read_csv('particle_data.csv')\n",
    "data.head()"
   ]
  },
  {
   "cell_type": "code",
   "execution_count": 7,
   "metadata": {},
   "outputs": [
    {
     "name": "stdout",
     "output_type": "stream",
     "text": [
      "Data size:  5000000\n"
     ]
    }
   ],
   "source": [
    "print('Data size: ', len(data))"
   ]
  },
  {
   "cell_type": "code",
   "execution_count": 9,
   "metadata": {},
   "outputs": [
    {
     "name": "stdout",
     "output_type": "stream",
     "text": [
      "Are any missing data?  False\n"
     ]
    }
   ],
   "source": [
    "print('Are any missing data? ',data.isnull().values.any())"
   ]
  },
  {
   "cell_type": "code",
   "execution_count": 10,
   "metadata": {},
   "outputs": [
    {
     "name": "stdout",
     "output_type": "stream",
     "text": [
      "<class 'pandas.core.frame.DataFrame'>\n",
      "RangeIndex: 5000000 entries, 0 to 4999999\n",
      "Data columns (total 7 columns):\n",
      "id       int64\n",
      "p        float64\n",
      "theta    float64\n",
      "beta     float64\n",
      "nphe     int64\n",
      "ein      float64\n",
      "eout     float64\n",
      "dtypes: float64(5), int64(2)\n",
      "memory usage: 267.0 MB\n"
     ]
    }
   ],
   "source": [
    "data.info()"
   ]
  },
  {
   "cell_type": "markdown",
   "metadata": {},
   "source": [
    "### Response variable"
   ]
  },
  {
   "cell_type": "code",
   "execution_count": 13,
   "metadata": {},
   "outputs": [
    {
     "name": "stdout",
     "output_type": "stream",
     "text": [
      "Categories of the response variable:  [ 211 2212  321  -11]\n"
     ]
    }
   ],
   "source": [
    "print('Categories of the response variable: ',data['id'].unique())"
   ]
  },
  {
   "cell_type": "code",
   "execution_count": 21,
   "metadata": {},
   "outputs": [
    {
     "data": {
      "image/png": "[encoded data removed]",
      "text/plain": [
       "<Figure size 432x288 with 1 Axes>"
      ]
     },
     "metadata": {},
     "output_type": "display_data"
    }
   ],
   "source": [
    "labels =   'pion' ,  'proton', 'kaon', 'positron'\n",
    "out=data['id'].value_counts()\n",
    "sizes = [out[211], out[2212], out[321],out[-11]]\n",
    "colors = ['blue', 'red','green','yellow']\n",
    "plt.rcParams['font.size'] = 15\n",
    "plt.pie(sizes, labels=labels, colors=colors,autopct='%1.1f%%')\n",
    "plt.title('Categories')\n",
    "plt.show()"
   ]
  },
  {
   "cell_type": "markdown",
   "metadata": {},
   "source": [
    "### Explanatory variables"
   ]
  },
  {
   "cell_type": "code",
   "execution_count": 25,
   "metadata": {},
   "outputs": [
    {
     "data": {
      "text/html": [
       "<div>\n",
       "<style scoped>\n",
       "    .dataframe tbody tr th:only-of-type {\n",
       "        vertical-align: middle;\n",
       "    }\n",
       "\n",
       "    .dataframe tbody tr th {\n",
       "        vertical-align: top;\n",
       "    }\n",
       "\n",
       "    .dataframe thead th {\n",
       "        text-align: right;\n",
       "    }\n",
       "</style>\n",
       "<table border=\"1\" class=\"dataframe\">\n",
       "  <thead>\n",
       "    <tr style=\"text-align: right;\">\n",
       "      <th></th>\n",
       "      <th>beta</th>\n",
       "      <th>ein</th>\n",
       "      <th>eout</th>\n",
       "      <th>nphe</th>\n",
       "      <th>p</th>\n",
       "      <th>theta</th>\n",
       "    </tr>\n",
       "  </thead>\n",
       "  <tbody>\n",
       "    <tr>\n",
       "      <th>count</th>\n",
       "      <td>5.000000e+06</td>\n",
       "      <td>5.000000e+06</td>\n",
       "      <td>5.000000e+06</td>\n",
       "      <td>5.000000e+06</td>\n",
       "      <td>5.000000e+06</td>\n",
       "      <td>5.000000e+06</td>\n",
       "    </tr>\n",
       "    <tr>\n",
       "      <th>mean</th>\n",
       "      <td>8.995796e-01</td>\n",
       "      <td>5.635883e-02</td>\n",
       "      <td>7.033195e-02</td>\n",
       "      <td>3.575243e+00</td>\n",
       "      <td>1.230053e+00</td>\n",
       "      <td>4.889321e-01</td>\n",
       "    </tr>\n",
       "    <tr>\n",
       "      <th>std</th>\n",
       "      <td>1.132321e-01</td>\n",
       "      <td>7.882675e-02</td>\n",
       "      <td>1.020604e-01</td>\n",
       "      <td>1.779236e+01</td>\n",
       "      <td>7.414895e-01</td>\n",
       "      <td>2.942161e-01</td>\n",
       "    </tr>\n",
       "    <tr>\n",
       "      <th>min</th>\n",
       "      <td>5.500010e-01</td>\n",
       "      <td>0.000000e+00</td>\n",
       "      <td>0.000000e+00</td>\n",
       "      <td>0.000000e+00</td>\n",
       "      <td>2.101170e-01</td>\n",
       "      <td>9.222140e-02</td>\n",
       "    </tr>\n",
       "    <tr>\n",
       "      <th>25%</th>\n",
       "      <td>8.378760e-01</td>\n",
       "      <td>0.000000e+00</td>\n",
       "      <td>0.000000e+00</td>\n",
       "      <td>0.000000e+00</td>\n",
       "      <td>6.657510e-01</td>\n",
       "      <td>2.817420e-01</td>\n",
       "    </tr>\n",
       "    <tr>\n",
       "      <th>50%</th>\n",
       "      <td>9.461940e-01</td>\n",
       "      <td>3.442440e-02</td>\n",
       "      <td>4.417490e-02</td>\n",
       "      <td>0.000000e+00</td>\n",
       "      <td>1.066150e+00</td>\n",
       "      <td>4.048670e-01</td>\n",
       "    </tr>\n",
       "    <tr>\n",
       "      <th>75%</th>\n",
       "      <td>9.855910e-01</td>\n",
       "      <td>6.834520e-02</td>\n",
       "      <td>9.365990e-02</td>\n",
       "      <td>0.000000e+00</td>\n",
       "      <td>1.649650e+00</td>\n",
       "      <td>6.117800e-01</td>\n",
       "    </tr>\n",
       "    <tr>\n",
       "      <th>max</th>\n",
       "      <td>1.499590e+00</td>\n",
       "      <td>8.993820e-01</td>\n",
       "      <td>1.097410e+00</td>\n",
       "      <td>3.490000e+02</td>\n",
       "      <td>5.286950e+00</td>\n",
       "      <td>2.219270e+00</td>\n",
       "    </tr>\n",
       "  </tbody>\n",
       "</table>\n",
       "</div>"
      ],
      "text/plain": [
       "               beta           ein          eout          nphe             p  \\\n",
       "count  5.000000e+06  5.000000e+06  5.000000e+06  5.000000e+06  5.000000e+06   \n",
       "mean   8.995796e-01  5.635883e-02  7.033195e-02  3.575243e+00  1.230053e+00   \n",
       "std    1.132321e-01  7.882675e-02  1.020604e-01  1.779236e+01  7.414895e-01   \n",
       "min    5.500010e-01  0.000000e+00  0.000000e+00  0.000000e+00  2.101170e-01   \n",
       "25%    8.378760e-01  0.000000e+00  0.000000e+00  0.000000e+00  6.657510e-01   \n",
       "50%    9.461940e-01  3.442440e-02  4.417490e-02  0.000000e+00  1.066150e+00   \n",
       "75%    9.855910e-01  6.834520e-02  9.365990e-02  0.000000e+00  1.649650e+00   \n",
       "max    1.499590e+00  8.993820e-01  1.097410e+00  3.490000e+02  5.286950e+00   \n",
       "\n",
       "              theta  \n",
       "count  5.000000e+06  \n",
       "mean   4.889321e-01  \n",
       "std    2.942161e-01  \n",
       "min    9.222140e-02  \n",
       "25%    2.817420e-01  \n",
       "50%    4.048670e-01  \n",
       "75%    6.117800e-01  \n",
       "max    2.219270e+00  "
      ]
     },
     "execution_count": 25,
     "metadata": {},
     "output_type": "execute_result"
    }
   ],
   "source": [
    "data[data.columns.difference(['id'])].describe()"
   ]
  },
  {
   "cell_type": "code",
   "execution_count": 26,
   "metadata": {},
   "outputs": [
    {
     "data": {
      "image/png": "[encoded data removed]",
      "text/plain": [
       "<Figure size 1440x720 with 6 Axes>"
      ]
     },
     "metadata": {
      "needs_background": "light"
     },
     "output_type": "display_data"
    }
   ],
   "source": [
    "plt.figure(figsize=(20,10))\n",
    "j=1\n",
    "for i in data.columns:\n",
    "    if i=='id': pass\n",
    "    else:\n",
    "        plt.subplot(2,4,j)\n",
    "        data.boxplot(column=i)\n",
    "        j+=1"
   ]
  },
  {
   "cell_type": "markdown",
   "metadata": {},
   "source": [
    "Frequently skewed distribution; many, many outliers."
   ]
  },
  {
   "cell_type": "markdown",
   "metadata": {},
   "source": [
    "### Correlation of the explanatory variables"
   ]
  },
  {
   "cell_type": "code",
   "execution_count": 28,
   "metadata": {},
   "outputs": [
    {
     "data": {
      "text/html": [
       "<style  type=\"text/css\" >\n",
       "    #T_5160c790_3151_11ea_b148_80c5f212031crow0_col0 {\n",
       "            background-color:  #b40426;\n",
       "            color:  #f1f1f1;\n",
       "        }    #T_5160c790_3151_11ea_b148_80c5f212031crow0_col1 {\n",
       "            background-color:  #92b4fe;\n",
       "            color:  #000000;\n",
       "        }    #T_5160c790_3151_11ea_b148_80c5f212031crow0_col2 {\n",
       "            background-color:  #b3cdfb;\n",
       "            color:  #000000;\n",
       "        }    #T_5160c790_3151_11ea_b148_80c5f212031crow0_col3 {\n",
       "            background-color:  #5673e0;\n",
       "            color:  #000000;\n",
       "        }    #T_5160c790_3151_11ea_b148_80c5f212031crow0_col4 {\n",
       "            background-color:  #dedcdb;\n",
       "            color:  #000000;\n",
       "        }    #T_5160c790_3151_11ea_b148_80c5f212031crow0_col5 {\n",
       "            background-color:  #b7cff9;\n",
       "            color:  #000000;\n",
       "        }    #T_5160c790_3151_11ea_b148_80c5f212031crow1_col0 {\n",
       "            background-color:  #3b4cc0;\n",
       "            color:  #f1f1f1;\n",
       "        }    #T_5160c790_3151_11ea_b148_80c5f212031crow1_col1 {\n",
       "            background-color:  #b40426;\n",
       "            color:  #f1f1f1;\n",
       "        }    #T_5160c790_3151_11ea_b148_80c5f212031crow1_col2 {\n",
       "            background-color:  #d9dce1;\n",
       "            color:  #000000;\n",
       "        }    #T_5160c790_3151_11ea_b148_80c5f212031crow1_col3 {\n",
       "            background-color:  #4b64d5;\n",
       "            color:  #f1f1f1;\n",
       "        }    #T_5160c790_3151_11ea_b148_80c5f212031crow1_col4 {\n",
       "            background-color:  #f5c4ac;\n",
       "            color:  #000000;\n",
       "        }    #T_5160c790_3151_11ea_b148_80c5f212031crow1_col5 {\n",
       "            background-color:  #6282ea;\n",
       "            color:  #000000;\n",
       "        }    #T_5160c790_3151_11ea_b148_80c5f212031crow2_col0 {\n",
       "            background-color:  #6180e9;\n",
       "            color:  #000000;\n",
       "        }    #T_5160c790_3151_11ea_b148_80c5f212031crow2_col1 {\n",
       "            background-color:  #d7dce3;\n",
       "            color:  #000000;\n",
       "        }    #T_5160c790_3151_11ea_b148_80c5f212031crow2_col2 {\n",
       "            background-color:  #b40426;\n",
       "            color:  #f1f1f1;\n",
       "        }    #T_5160c790_3151_11ea_b148_80c5f212031crow2_col3 {\n",
       "            background-color:  #455cce;\n",
       "            color:  #f1f1f1;\n",
       "        }    #T_5160c790_3151_11ea_b148_80c5f212031crow2_col4 {\n",
       "            background-color:  #f7a889;\n",
       "            color:  #000000;\n",
       "        }    #T_5160c790_3151_11ea_b148_80c5f212031crow2_col5 {\n",
       "            background-color:  #5f7fe8;\n",
       "            color:  #000000;\n",
       "        }    #T_5160c790_3151_11ea_b148_80c5f212031crow3_col0 {\n",
       "            background-color:  #4257c9;\n",
       "            color:  #f1f1f1;\n",
       "        }    #T_5160c790_3151_11ea_b148_80c5f212031crow3_col1 {\n",
       "            background-color:  #8fb1fe;\n",
       "            color:  #000000;\n",
       "        }    #T_5160c790_3151_11ea_b148_80c5f212031crow3_col2 {\n",
       "            background-color:  #8caffe;\n",
       "            color:  #000000;\n",
       "        }    #T_5160c790_3151_11ea_b148_80c5f212031crow3_col3 {\n",
       "            background-color:  #b40426;\n",
       "            color:  #f1f1f1;\n",
       "        }    #T_5160c790_3151_11ea_b148_80c5f212031crow3_col4 {\n",
       "            background-color:  #a2c1ff;\n",
       "            color:  #000000;\n",
       "        }    #T_5160c790_3151_11ea_b148_80c5f212031crow3_col5 {\n",
       "            background-color:  #bcd2f7;\n",
       "            color:  #000000;\n",
       "        }    #T_5160c790_3151_11ea_b148_80c5f212031crow4_col0 {\n",
       "            background-color:  #86a9fc;\n",
       "            color:  #000000;\n",
       "        }    #T_5160c790_3151_11ea_b148_80c5f212031crow4_col1 {\n",
       "            background-color:  #edd1c2;\n",
       "            color:  #000000;\n",
       "        }    #T_5160c790_3151_11ea_b148_80c5f212031crow4_col2 {\n",
       "            background-color:  #f7b599;\n",
       "            color:  #000000;\n",
       "        }    #T_5160c790_3151_11ea_b148_80c5f212031crow4_col3 {\n",
       "            background-color:  #3b4cc0;\n",
       "            color:  #f1f1f1;\n",
       "        }    #T_5160c790_3151_11ea_b148_80c5f212031crow4_col4 {\n",
       "            background-color:  #b40426;\n",
       "            color:  #f1f1f1;\n",
       "        }    #T_5160c790_3151_11ea_b148_80c5f212031crow4_col5 {\n",
       "            background-color:  #3b4cc0;\n",
       "            color:  #f1f1f1;\n",
       "        }    #T_5160c790_3151_11ea_b148_80c5f212031crow5_col0 {\n",
       "            background-color:  #4257c9;\n",
       "            color:  #f1f1f1;\n",
       "        }    #T_5160c790_3151_11ea_b148_80c5f212031crow5_col1 {\n",
       "            background-color:  #3b4cc0;\n",
       "            color:  #f1f1f1;\n",
       "        }    #T_5160c790_3151_11ea_b148_80c5f212031crow5_col2 {\n",
       "            background-color:  #3b4cc0;\n",
       "            color:  #f1f1f1;\n",
       "        }    #T_5160c790_3151_11ea_b148_80c5f212031crow5_col3 {\n",
       "            background-color:  #5d7ce6;\n",
       "            color:  #000000;\n",
       "        }    #T_5160c790_3151_11ea_b148_80c5f212031crow5_col4 {\n",
       "            background-color:  #3b4cc0;\n",
       "            color:  #f1f1f1;\n",
       "        }    #T_5160c790_3151_11ea_b148_80c5f212031crow5_col5 {\n",
       "            background-color:  #b40426;\n",
       "            color:  #f1f1f1;\n",
       "        }</style><table id=\"T_5160c790_3151_11ea_b148_80c5f212031c\" ><thead>    <tr>        <th class=\"blank level0\" ></th>        <th class=\"col_heading level0 col0\" >beta</th>        <th class=\"col_heading level0 col1\" >ein</th>        <th class=\"col_heading level0 col2\" >eout</th>        <th class=\"col_heading level0 col3\" >nphe</th>        <th class=\"col_heading level0 col4\" >p</th>        <th class=\"col_heading level0 col5\" >theta</th>    </tr></thead><tbody>\n",
       "                <tr>\n",
       "                        <th id=\"T_5160c790_3151_11ea_b148_80c5f212031clevel0_row0\" class=\"row_heading level0 row0\" >beta</th>\n",
       "                        <td id=\"T_5160c790_3151_11ea_b148_80c5f212031crow0_col0\" class=\"data row0 col0\" >1</td>\n",
       "                        <td id=\"T_5160c790_3151_11ea_b148_80c5f212031crow0_col1\" class=\"data row0 col1\" >-0.00895432</td>\n",
       "                        <td id=\"T_5160c790_3151_11ea_b148_80c5f212031crow0_col2\" class=\"data row0 col2\" >0.115911</td>\n",
       "                        <td id=\"T_5160c790_3151_11ea_b148_80c5f212031crow0_col3\" class=\"data row0 col3\" >0.0167361</td>\n",
       "                        <td id=\"T_5160c790_3151_11ea_b148_80c5f212031crow0_col4\" class=\"data row0 col4\" >0.226958</td>\n",
       "                        <td id=\"T_5160c790_3151_11ea_b148_80c5f212031crow0_col5\" class=\"data row0 col5\" >0.0185224</td>\n",
       "            </tr>\n",
       "            <tr>\n",
       "                        <th id=\"T_5160c790_3151_11ea_b148_80c5f212031clevel0_row1\" class=\"row_heading level0 row1\" >ein</th>\n",
       "                        <td id=\"T_5160c790_3151_11ea_b148_80c5f212031crow1_col0\" class=\"data row1 col0\" >-0.00895432</td>\n",
       "                        <td id=\"T_5160c790_3151_11ea_b148_80c5f212031crow1_col1\" class=\"data row1 col1\" >1</td>\n",
       "                        <td id=\"T_5160c790_3151_11ea_b148_80c5f212031crow1_col2\" class=\"data row1 col2\" >0.287848</td>\n",
       "                        <td id=\"T_5160c790_3151_11ea_b148_80c5f212031crow1_col3\" class=\"data row1 col3\" >-0.0208189</td>\n",
       "                        <td id=\"T_5160c790_3151_11ea_b148_80c5f212031crow1_col4\" class=\"data row1 col4\" >0.413338</td>\n",
       "                        <td id=\"T_5160c790_3151_11ea_b148_80c5f212031crow1_col5\" class=\"data row1 col5\" >-0.37005</td>\n",
       "            </tr>\n",
       "            <tr>\n",
       "                        <th id=\"T_5160c790_3151_11ea_b148_80c5f212031clevel0_row2\" class=\"row_heading level0 row2\" >eout</th>\n",
       "                        <td id=\"T_5160c790_3151_11ea_b148_80c5f212031crow2_col0\" class=\"data row2 col0\" >0.115911</td>\n",
       "                        <td id=\"T_5160c790_3151_11ea_b148_80c5f212031crow2_col1\" class=\"data row2 col1\" >0.287848</td>\n",
       "                        <td id=\"T_5160c790_3151_11ea_b148_80c5f212031crow2_col2\" class=\"data row2 col2\" >1</td>\n",
       "                        <td id=\"T_5160c790_3151_11ea_b148_80c5f212031crow2_col3\" class=\"data row2 col3\" >-0.040047</td>\n",
       "                        <td id=\"T_5160c790_3151_11ea_b148_80c5f212031crow2_col4\" class=\"data row2 col4\" >0.547105</td>\n",
       "                        <td id=\"T_5160c790_3151_11ea_b148_80c5f212031crow2_col5\" class=\"data row2 col5\" >-0.381239</td>\n",
       "            </tr>\n",
       "            <tr>\n",
       "                        <th id=\"T_5160c790_3151_11ea_b148_80c5f212031clevel0_row3\" class=\"row_heading level0 row3\" >nphe</th>\n",
       "                        <td id=\"T_5160c790_3151_11ea_b148_80c5f212031crow3_col0\" class=\"data row3 col0\" >0.0167361</td>\n",
       "                        <td id=\"T_5160c790_3151_11ea_b148_80c5f212031crow3_col1\" class=\"data row3 col1\" >-0.0208189</td>\n",
       "                        <td id=\"T_5160c790_3151_11ea_b148_80c5f212031crow3_col2\" class=\"data row3 col2\" >-0.040047</td>\n",
       "                        <td id=\"T_5160c790_3151_11ea_b148_80c5f212031crow3_col3\" class=\"data row3 col3\" >1</td>\n",
       "                        <td id=\"T_5160c790_3151_11ea_b148_80c5f212031crow3_col4\" class=\"data row3 col4\" >-0.0804242</td>\n",
       "                        <td id=\"T_5160c790_3151_11ea_b148_80c5f212031crow3_col5\" class=\"data row3 col5\" >0.0394622</td>\n",
       "            </tr>\n",
       "            <tr>\n",
       "                        <th id=\"T_5160c790_3151_11ea_b148_80c5f212031clevel0_row4\" class=\"row_heading level0 row4\" >p</th>\n",
       "                        <td id=\"T_5160c790_3151_11ea_b148_80c5f212031crow4_col0\" class=\"data row4 col0\" >0.226958</td>\n",
       "                        <td id=\"T_5160c790_3151_11ea_b148_80c5f212031crow4_col1\" class=\"data row4 col1\" >0.413338</td>\n",
       "                        <td id=\"T_5160c790_3151_11ea_b148_80c5f212031crow4_col2\" class=\"data row4 col2\" >0.547105</td>\n",
       "                        <td id=\"T_5160c790_3151_11ea_b148_80c5f212031crow4_col3\" class=\"data row4 col3\" >-0.0804242</td>\n",
       "                        <td id=\"T_5160c790_3151_11ea_b148_80c5f212031crow4_col4\" class=\"data row4 col4\" >1</td>\n",
       "                        <td id=\"T_5160c790_3151_11ea_b148_80c5f212031crow4_col5\" class=\"data row4 col5\" >-0.568578</td>\n",
       "            </tr>\n",
       "            <tr>\n",
       "                        <th id=\"T_5160c790_3151_11ea_b148_80c5f212031clevel0_row5\" class=\"row_heading level0 row5\" >theta</th>\n",
       "                        <td id=\"T_5160c790_3151_11ea_b148_80c5f212031crow5_col0\" class=\"data row5 col0\" >0.0185224</td>\n",
       "                        <td id=\"T_5160c790_3151_11ea_b148_80c5f212031crow5_col1\" class=\"data row5 col1\" >-0.37005</td>\n",
       "                        <td id=\"T_5160c790_3151_11ea_b148_80c5f212031crow5_col2\" class=\"data row5 col2\" >-0.381239</td>\n",
       "                        <td id=\"T_5160c790_3151_11ea_b148_80c5f212031crow5_col3\" class=\"data row5 col3\" >0.0394622</td>\n",
       "                        <td id=\"T_5160c790_3151_11ea_b148_80c5f212031crow5_col4\" class=\"data row5 col4\" >-0.568578</td>\n",
       "                        <td id=\"T_5160c790_3151_11ea_b148_80c5f212031crow5_col5\" class=\"data row5 col5\" >1</td>\n",
       "            </tr>\n",
       "    </tbody></table>"
      ],
      "text/plain": [
       "<pandas.io.formats.style.Styler at 0x1e5c0d3fe10>"
      ]
     },
     "execution_count": 28,
     "metadata": {},
     "output_type": "execute_result"
    }
   ],
   "source": [
    "corr_matrix=data[data.columns.difference(['id'])].corr()\n",
    "corr_matrix.style.background_gradient(cmap='coolwarm')"
   ]
  },
  {
   "cell_type": "markdown",
   "metadata": {},
   "source": [
    "Explanatory variables are rather not correlated significantly between each other."
   ]
  },
  {
   "cell_type": "markdown",
   "metadata": {},
   "source": [
    "### Group comparison"
   ]
  },
  {
   "cell_type": "code",
   "execution_count": 29,
   "metadata": {},
   "outputs": [
    {
     "data": {
      "text/html": [
       "<div>\n",
       "<style scoped>\n",
       "    .dataframe tbody tr th:only-of-type {\n",
       "        vertical-align: middle;\n",
       "    }\n",
       "\n",
       "    .dataframe tbody tr th {\n",
       "        vertical-align: top;\n",
       "    }\n",
       "\n",
       "    .dataframe thead th {\n",
       "        text-align: right;\n",
       "    }\n",
       "</style>\n",
       "<table border=\"1\" class=\"dataframe\">\n",
       "  <thead>\n",
       "    <tr style=\"text-align: right;\">\n",
       "      <th>id</th>\n",
       "      <th>-11</th>\n",
       "      <th>211</th>\n",
       "      <th>321</th>\n",
       "      <th>2212</th>\n",
       "    </tr>\n",
       "  </thead>\n",
       "  <tbody>\n",
       "    <tr>\n",
       "      <th>p</th>\n",
       "      <td>0.591886</td>\n",
       "      <td>1.035184</td>\n",
       "      <td>1.744734</td>\n",
       "      <td>1.454526</td>\n",
       "    </tr>\n",
       "    <tr>\n",
       "      <th>theta</th>\n",
       "      <td>0.471277</td>\n",
       "      <td>0.574035</td>\n",
       "      <td>0.381561</td>\n",
       "      <td>0.379136</td>\n",
       "    </tr>\n",
       "    <tr>\n",
       "      <th>beta</th>\n",
       "      <td>1.001011</td>\n",
       "      <td>0.968695</td>\n",
       "      <td>0.921961</td>\n",
       "      <td>0.796434</td>\n",
       "    </tr>\n",
       "    <tr>\n",
       "      <th>nphe</th>\n",
       "      <td>26.177948</td>\n",
       "      <td>4.636706</td>\n",
       "      <td>2.001605</td>\n",
       "      <td>2.059655</td>\n",
       "    </tr>\n",
       "    <tr>\n",
       "      <th>ein</th>\n",
       "      <td>0.068000</td>\n",
       "      <td>0.042600</td>\n",
       "      <td>0.060969</td>\n",
       "      <td>0.075566</td>\n",
       "    </tr>\n",
       "    <tr>\n",
       "      <th>eout</th>\n",
       "      <td>0.021495</td>\n",
       "      <td>0.052250</td>\n",
       "      <td>0.088638</td>\n",
       "      <td>0.094600</td>\n",
       "    </tr>\n",
       "  </tbody>\n",
       "</table>\n",
       "</div>"
      ],
      "text/plain": [
       "id         -11        211       321       2212\n",
       "p       0.591886  1.035184  1.744734  1.454526\n",
       "theta   0.471277  0.574035  0.381561  0.379136\n",
       "beta    1.001011  0.968695  0.921961  0.796434\n",
       "nphe   26.177948  4.636706  2.001605  2.059655\n",
       "ein     0.068000  0.042600  0.060969  0.075566\n",
       "eout    0.021495  0.052250  0.088638  0.094600"
      ]
     },
     "execution_count": 29,
     "metadata": {},
     "output_type": "execute_result"
    }
   ],
   "source": [
    "grouped=data.groupby('id').mean()\n",
    "grouped=grouped.transpose()\n",
    "grouped"
   ]
  },
  {
   "cell_type": "markdown",
   "metadata": {},
   "source": [
    "<b> Observations about means for the different categories: </b> <br>\n",
    "* <b> p  - </b> seems to differ between groups.\n",
    "* <b> theta - </b> the difference between 321 and 2212 is very slight. \n",
    "* <b> beta - </b> the difference not so notable. A bit lower for 2212.\n",
    "* <b> nphe - </b> much higher for the group -11 than for the others. Different for 211 and similar between 321 and 2212.\n",
    "* <b> ein - </b> very similar, slight difference for 211.\n",
    "* <b> eout - </b> seems to rise depending on the group."
   ]
  },
  {
   "cell_type": "code",
   "execution_count": 41,
   "metadata": {},
   "outputs": [
    {
     "data": {
      "text/plain": [
       "Text(0.5, 1.0, 'Mean comparison for the groups')"
      ]
     },
     "execution_count": 41,
     "metadata": {},
     "output_type": "execute_result"
    },
    {
     "data": {
      "text/plain": [
       "<Figure size 1440x1440 with 0 Axes>"
      ]
     },
     "metadata": {},
     "output_type": "display_data"
    },
    {
     "data": {
      "image/png": "[encoded data removed]",
      "text/plain": [
       "<Figure size 432x288 with 1 Axes>"
      ]
     },
     "metadata": {
      "needs_background": "light"
     },
     "output_type": "display_data"
    }
   ],
   "source": [
    "plt.figure(figsize=(20,20))\n",
    "grouped.plot.bar()\n",
    "plt.title('Mean comparison for the groups')"
   ]
  },
  {
   "cell_type": "code",
   "execution_count": 48,
   "metadata": {},
   "outputs": [
    {
     "data": {
      "image/png": "[encoded data removed]",
      "text/plain": [
       "<Figure size 432x288 with 1 Axes>"
      ]
     },
     "metadata": {
      "needs_background": "light"
     },
     "output_type": "display_data"
    },
    {
     "data": {
      "image/png": "[encoded data removed]",
      "text/plain": [
       "<Figure size 432x288 with 1 Axes>"
      ]
     },
     "metadata": {
      "needs_background": "light"
     },
     "output_type": "display_data"
    },
    {
     "data": {
      "image/png": "[encoded data removed]",
      "text/plain": [
       "<Figure size 432x288 with 1 Axes>"
      ]
     },
     "metadata": {
      "needs_background": "light"
     },
     "output_type": "display_data"
    },
    {
     "data": {
      "image/png": "[encoded data removed]",
      "text/plain": [
       "<Figure size 432x288 with 1 Axes>"
      ]
     },
     "metadata": {
      "needs_background": "light"
     },
     "output_type": "display_data"
    },
    {
     "data": {
      "image/png": "[encoded data removed]",
      "text/plain": [
       "<Figure size 432x288 with 1 Axes>"
      ]
     },
     "metadata": {
      "needs_background": "light"
     },
     "output_type": "display_data"
    },
    {
     "data": {
      "image/png": "[encoded data removed]",
      "text/plain": [
       "<Figure size 432x288 with 1 Axes>"
      ]
     },
     "metadata": {
      "needs_background": "light"
     },
     "output_type": "display_data"
    }
   ],
   "source": [
    "for i,j in zip(data.columns.difference(['id']), range(1, len(data.columns.difference(['id'])) +1) ):\n",
    "    a=pd.crosstab(data[i],data['id'])#.plot(kind='line')\n",
    "    a.plot(kind='line',alpha=0.3)"
   ]
  },
  {
   "cell_type": "markdown",
   "metadata": {},
   "source": [
    "<b> Observations about means for the different categories: </b> <br>\n",
    "* <b> p  - </b> takes rather low value if belongs to 211. Hgher for 2212. No singular pattern for -11 and 321.\n",
    "* <b> theta - </b> for 321 and -11 the distribution is very scattered, no specific pattern. The majority of particles for 2212 group have theta below 1.  211 many particles between 1 and 1.5\n",
    "* <b> beta - </b> if belongs to 211 then the value rather close to 1. No specific pattern for other groups.\n",
    "* <b> nphe - </b> no specific observations.\n",
    "* <b> ein - </b> no specific observations.\n",
    "* <b> eout - </b> no specific observations."
   ]
  },
  {
   "cell_type": "markdown",
   "metadata": {},
   "source": [
    "# Logistic regression"
   ]
  },
  {
   "cell_type": "markdown",
   "metadata": {},
   "source": [
    "## First model"
   ]
  },
  {
   "cell_type": "code",
   "execution_count": 5,
   "metadata": {},
   "outputs": [],
   "source": [
    "# Data split 20% (test) - 80% (train)\n",
    "from sklearn.utils import shuffle\n",
    "data = shuffle(data)\n",
    "X_train,X_test,Y_train,Y_test = train_test_split(data.drop('id',axis=1), data['id'],test_size=0.2,random_state=0)"
   ]
  },
  {
   "cell_type": "code",
   "execution_count": null,
   "metadata": {},
   "outputs": [
    {
     "name": "stderr",
     "output_type": "stream",
     "text": [
      "C:\\ProgramData\\Anaconda3\\lib\\site-packages\\sklearn\\linear_model\\logistic.py:432: FutureWarning: Default solver will be changed to 'lbfgs' in 0.22. Specify a solver to silence this warning.\n",
      "  FutureWarning)\n",
      "C:\\ProgramData\\Anaconda3\\lib\\site-packages\\sklearn\\linear_model\\logistic.py:469: FutureWarning: Default multi_class will be changed to 'auto' in 0.22. Specify the multi_class option to silence this warning.\n",
      "  \"this warning.\", FutureWarning)\n"
     ]
    }
   ],
   "source": [
    "model=LogisticRegression()\n",
    "model.fit(X_train,Y_train)"
   ]
  },
  {
   "cell_type": "markdown",
   "metadata": {},
   "source": [
    "### Analysis of the performance for the training data"
   ]
  },
  {
   "cell_type": "code",
   "execution_count": 52,
   "metadata": {},
   "outputs": [],
   "source": [
    "predictions = model.predict(X_train)"
   ]
  },
  {
   "cell_type": "code",
   "execution_count": 53,
   "metadata": {},
   "outputs": [
    {
     "name": "stderr",
     "output_type": "stream",
     "text": [
      "C:\\ProgramData\\Anaconda3\\lib\\site-packages\\sklearn\\metrics\\classification.py:1437: UndefinedMetricWarning: Precision and F-score are ill-defined and being set to 0.0 in labels with no predicted samples.\n",
      "  'precision', 'predicted', average, warn_for)\n"
     ]
    },
    {
     "name": "stdout",
     "output_type": "stream",
     "text": [
      "              precision    recall  f1-score   support\n",
      "\n",
      "         -11       0.00      0.00      0.00     11887\n",
      "         211       0.94      0.97      0.95   2245953\n",
      "         321       0.00      0.00      0.00    185998\n",
      "        2212       0.93      0.99      0.96   1556162\n",
      "\n",
      "    accuracy                           0.93   4000000\n",
      "   macro avg       0.47      0.49      0.48   4000000\n",
      "weighted avg       0.89      0.93      0.91   4000000\n",
      "\n"
     ]
    }
   ],
   "source": [
    "#Predictions for X_train\n",
    "from sklearn.metrics import classification_report\n",
    "from sklearn.metrics import confusion_matrix,accuracy_score\n",
    "print(classification_report(Y_train, predictions))"
   ]
  },
  {
   "cell_type": "code",
   "execution_count": 54,
   "metadata": {},
   "outputs": [
    {
     "name": "stdout",
     "output_type": "stream",
     "text": [
      "Accuracy score = correct predictions / total number of predictions: 0.93198225\n"
     ]
    }
   ],
   "source": [
    "print('Accuracy score = correct predictions / total number of predictions:',accuracy_score(Y_train, predictions))"
   ]
  },
  {
   "cell_type": "code",
   "execution_count": 55,
   "metadata": {},
   "outputs": [
    {
     "data": {
      "text/plain": [
       "<matplotlib.axes._subplots.AxesSubplot at 0x1e5bf0ce160>"
      ]
     },
     "execution_count": 55,
     "metadata": {},
     "output_type": "execute_result"
    },
    {
     "data": {
      "image/png": "[encoded data removed]",
      "text/plain": [
       "<Figure size 432x288 with 2 Axes>"
      ]
     },
     "metadata": {
      "needs_background": "light"
     },
     "output_type": "display_data"
    }
   ],
   "source": [
    "import scikitplot as skplt \n",
    "skplt.metrics.plot_confusion_matrix(Y_train, predictions, normalize=True)"
   ]
  },
  {
   "cell_type": "markdown",
   "metadata": {},
   "source": [
    "### Analysis of the performance for the testing data"
   ]
  },
  {
   "cell_type": "code",
   "execution_count": 56,
   "metadata": {},
   "outputs": [
    {
     "name": "stderr",
     "output_type": "stream",
     "text": [
      "C:\\ProgramData\\Anaconda3\\lib\\site-packages\\sklearn\\metrics\\classification.py:1437: UndefinedMetricWarning: Precision and F-score are ill-defined and being set to 0.0 in labels with no predicted samples.\n",
      "  'precision', 'predicted', average, warn_for)\n"
     ]
    },
    {
     "name": "stdout",
     "output_type": "stream",
     "text": [
      "              precision    recall  f1-score   support\n",
      "\n",
      "         -11       0.00      0.00      0.00      2960\n",
      "         211       0.94      0.97      0.95    560880\n",
      "         321       0.00      0.00      0.00     46473\n",
      "        2212       0.93      0.99      0.96    389687\n",
      "\n",
      "    accuracy                           0.93   1000000\n",
      "   macro avg       0.47      0.49      0.48   1000000\n",
      "weighted avg       0.89      0.93      0.91   1000000\n",
      "\n"
     ]
    }
   ],
   "source": [
    "predictions = model.predict(X_test)\n",
    "print(classification_report(Y_test, predictions))"
   ]
  },
  {
   "cell_type": "code",
   "execution_count": 57,
   "metadata": {},
   "outputs": [
    {
     "name": "stdout",
     "output_type": "stream",
     "text": [
      "Accuracy score = correct predictions / total number of predictions: 0.932299\n"
     ]
    }
   ],
   "source": [
    "print('Accuracy score = correct predictions / total number of predictions:',accuracy_score(Y_test, predictions))"
   ]
  },
  {
   "cell_type": "code",
   "execution_count": 58,
   "metadata": {},
   "outputs": [
    {
     "data": {
      "text/plain": [
       "<matplotlib.axes._subplots.AxesSubplot at 0x1e5bf186860>"
      ]
     },
     "execution_count": 58,
     "metadata": {},
     "output_type": "execute_result"
    },
    {
     "data": {
      "image/png": "[encoded data removed]",
      "text/plain": [
       "<Figure size 432x288 with 2 Axes>"
      ]
     },
     "metadata": {
      "needs_background": "light"
     },
     "output_type": "display_data"
    }
   ],
   "source": [
    "skplt.metrics.plot_confusion_matrix(Y_test, predictions, normalize=True)"
   ]
  },
  {
   "cell_type": "markdown",
   "metadata": {},
   "source": [
    "### Conclusions:\n",
    "* model has a good overall accuracy, it can identify well 2212 group and 211 the most common types.\n",
    "* sometimes it identifies correctly 321, it confuses it frequently with 2212 though.\n",
    "* it almost never indentifies -11\n",
    "* the observed predictions patterns are justified by the given data structure (few data about -11 comparing to the rest).\n",
    "* can't indentify kaon and positron (because there are only few cases of it)"
   ]
  },
  {
   "cell_type": "markdown",
   "metadata": {},
   "source": [
    "Maybe I should change the proportions between the group. Like 25% - 25% - 25% - 25%"
   ]
  },
  {
   "cell_type": "markdown",
   "metadata": {},
   "source": [
    "# Second model\n",
    "* <b> Training data </b> - each group has the same number of samples (size= size(of the smallest group)/2)\n",
    "* <b> Testing data </b> - all other data not present in the training data"
   ]
  },
  {
   "cell_type": "code",
   "execution_count": 48,
   "metadata": {},
   "outputs": [],
   "source": [
    "grouped=data.groupby('id')"
   ]
  },
  {
   "cell_type": "code",
   "execution_count": 11,
   "metadata": {},
   "outputs": [
    {
     "name": "stdout",
     "output_type": "stream",
     "text": [
      "size of the 211 group :  2806833\n",
      "size of the -11 group :  14847\n",
      "size of the 321 group :  232471\n",
      "size of the 2212 group :  1945849\n"
     ]
    }
   ],
   "source": [
    "print('size of the 211 group : ',len(grouped.get_group(211)))\n",
    "print('size of the -11 group : ',len(grouped.get_group(-11)))\n",
    "print('size of the 321 group : ',len(grouped.get_group(321)))\n",
    "print('size of the 2212 group : ',len(grouped.get_group(2212)))"
   ]
  },
  {
   "cell_type": "code",
   "execution_count": 92,
   "metadata": {},
   "outputs": [],
   "source": [
    "g1=grouped.get_group(211)\n",
    "g2=grouped.get_group(-11)\n",
    "g3=grouped.get_group(321)\n",
    "g4=grouped.get_group(2212)\n",
    "\n",
    "size_of_the_group=int(14847/1.2)\n",
    "\n",
    "g2_prim = g2.sample(n=size_of_the_group)\n",
    "g1_prim = g1.sample(n=size_of_the_group)\n",
    "g3_prim = g3.sample(n=size_of_the_group)\n",
    "g4_prim = g4.sample(n=size_of_the_group)"
   ]
  },
  {
   "cell_type": "code",
   "execution_count": 93,
   "metadata": {},
   "outputs": [],
   "source": [
    "from sklearn.utils import shuffle\n",
    "frames = [g1_prim, g2_prim, g3_prim,g4_prim]\n",
    "new_data = pd.concat(frames) #new data with equal fraction of data about every group\n",
    "new_data = shuffle(new_data)"
   ]
  },
  {
   "cell_type": "code",
   "execution_count": 94,
   "metadata": {},
   "outputs": [],
   "source": [
    "test_data=data[~data.isin(new_data)].dropna() # testing data are all data that didn t appear in the new data\n",
    "test_data=shuffle(test_data)"
   ]
  },
  {
   "cell_type": "code",
   "execution_count": 95,
   "metadata": {},
   "outputs": [],
   "source": [
    "X_train,Y_train = new_data.drop('id',axis=1), new_data['id'] \n",
    "X_test,Y_test = test_data.drop('id',axis=1), test_data['id']"
   ]
  },
  {
   "cell_type": "code",
   "execution_count": 96,
   "metadata": {},
   "outputs": [
    {
     "name": "stderr",
     "output_type": "stream",
     "text": [
      "C:\\ProgramData\\Anaconda3\\lib\\site-packages\\sklearn\\linear_model\\logistic.py:432: FutureWarning: Default solver will be changed to 'lbfgs' in 0.22. Specify a solver to silence this warning.\n",
      "  FutureWarning)\n",
      "C:\\ProgramData\\Anaconda3\\lib\\site-packages\\sklearn\\linear_model\\logistic.py:469: FutureWarning: Default multi_class will be changed to 'auto' in 0.22. Specify the multi_class option to silence this warning.\n",
      "  \"this warning.\", FutureWarning)\n"
     ]
    },
    {
     "data": {
      "text/plain": [
       "LogisticRegression(C=1.0, class_weight=None, dual=False, fit_intercept=True,\n",
       "                   intercept_scaling=1, l1_ratio=None, max_iter=100,\n",
       "                   multi_class='warn', n_jobs=None, penalty='l2',\n",
       "                   random_state=None, solver='warn', tol=0.0001, verbose=0,\n",
       "                   warm_start=False)"
      ]
     },
     "execution_count": 96,
     "metadata": {},
     "output_type": "execute_result"
    }
   ],
   "source": [
    "model=LogisticRegression()\n",
    "model.fit(X_train,Y_train)"
   ]
  },
  {
   "cell_type": "code",
   "execution_count": 97,
   "metadata": {},
   "outputs": [],
   "source": [
    "predictions = model.predict(X_train)"
   ]
  },
  {
   "cell_type": "code",
   "execution_count": 98,
   "metadata": {},
   "outputs": [
    {
     "name": "stdout",
     "output_type": "stream",
     "text": [
      "Accuracy score training data = correct predictions / total number of predictions: 0.7579211121888134\n"
     ]
    }
   ],
   "source": [
    "print('Accuracy score training data = correct predictions / total number of predictions:',accuracy_score(Y_train, predictions))"
   ]
  },
  {
   "cell_type": "code",
   "execution_count": 99,
   "metadata": {},
   "outputs": [
    {
     "data": {
      "text/plain": [
       "<matplotlib.axes._subplots.AxesSubplot at 0x23701bc4a20>"
      ]
     },
     "execution_count": 99,
     "metadata": {},
     "output_type": "execute_result"
    },
    {
     "data": {
      "image/png": "[encoded data removed]",
      "text/plain": [
       "<Figure size 432x288 with 2 Axes>"
      ]
     },
     "metadata": {
      "needs_background": "light"
     },
     "output_type": "display_data"
    }
   ],
   "source": [
    "import scikitplot as skplt \n",
    "skplt.metrics.plot_confusion_matrix(Y_train, predictions, normalize=True)"
   ]
  },
  {
   "cell_type": "code",
   "execution_count": 100,
   "metadata": {},
   "outputs": [],
   "source": [
    "predictions = model.predict(X_test)"
   ]
  },
  {
   "cell_type": "code",
   "execution_count": 101,
   "metadata": {},
   "outputs": [
    {
     "name": "stdout",
     "output_type": "stream",
     "text": [
      "Accuracy score = correct predictions / total number of predictions: 0.6983170629623764\n"
     ]
    }
   ],
   "source": [
    "print('Accuracy score = correct predictions / total number of predictions:',accuracy_score(Y_test, predictions))"
   ]
  },
  {
   "cell_type": "code",
   "execution_count": 102,
   "metadata": {},
   "outputs": [
    {
     "data": {
      "text/plain": [
       "<matplotlib.axes._subplots.AxesSubplot at 0x23701efac88>"
      ]
     },
     "execution_count": 102,
     "metadata": {},
     "output_type": "execute_result"
    },
    {
     "data": {
      "image/png": "[encoded data removed]",
      "text/plain": [
       "<Figure size 432x288 with 2 Axes>"
      ]
     },
     "metadata": {
      "needs_background": "light"
     },
     "output_type": "display_data"
    }
   ],
   "source": [
    "skplt.metrics.plot_confusion_matrix(Y_test, predictions, normalize=True)"
   ]
  },
  {
   "cell_type": "markdown",
   "metadata": {},
   "source": [
    "### Conclusions:\n",
    "* Now it is capable to predict somehow each label. However the detection of 211 is significantly harder task than in the previous model. \n",
    "* Gained capacity to detect other labels is bought by the lower overall accuracy and lower probability of the correct detection of 211 and 2212.\n",
    "* identifies well the most common type 2212 (proton), but the second most common type does not."
   ]
  },
  {
   "cell_type": "markdown",
   "metadata": {},
   "source": [
    "### Maybe the size of the group can change something?"
   ]
  },
  {
   "cell_type": "code",
   "execution_count": 104,
   "metadata": {},
   "outputs": [
    {
     "name": "stderr",
     "output_type": "stream",
     "text": [
      "C:\\ProgramData\\Anaconda3\\lib\\site-packages\\sklearn\\linear_model\\logistic.py:432: FutureWarning: Default solver will be changed to 'lbfgs' in 0.22. Specify a solver to silence this warning.\n",
      "  FutureWarning)\n",
      "C:\\ProgramData\\Anaconda3\\lib\\site-packages\\sklearn\\linear_model\\logistic.py:469: FutureWarning: Default multi_class will be changed to 'auto' in 0.22. Specify the multi_class option to silence this warning.\n",
      "  \"this warning.\", FutureWarning)\n"
     ]
    },
    {
     "name": "stdout",
     "output_type": "stream",
     "text": [
      "size:  1.0 Accuracy score 0.7028076683617334\n"
     ]
    },
    {
     "name": "stderr",
     "output_type": "stream",
     "text": [
      "C:\\ProgramData\\Anaconda3\\lib\\site-packages\\sklearn\\linear_model\\logistic.py:432: FutureWarning: Default solver will be changed to 'lbfgs' in 0.22. Specify a solver to silence this warning.\n",
      "  FutureWarning)\n",
      "C:\\ProgramData\\Anaconda3\\lib\\site-packages\\sklearn\\linear_model\\logistic.py:469: FutureWarning: Default multi_class will be changed to 'auto' in 0.22. Specify the multi_class option to silence this warning.\n",
      "  \"this warning.\", FutureWarning)\n"
     ]
    },
    {
     "name": "stdout",
     "output_type": "stream",
     "text": [
      "size:  1.1 Accuracy score 0.6965549214195194\n"
     ]
    },
    {
     "name": "stderr",
     "output_type": "stream",
     "text": [
      "C:\\ProgramData\\Anaconda3\\lib\\site-packages\\sklearn\\linear_model\\logistic.py:432: FutureWarning: Default solver will be changed to 'lbfgs' in 0.22. Specify a solver to silence this warning.\n",
      "  FutureWarning)\n",
      "C:\\ProgramData\\Anaconda3\\lib\\site-packages\\sklearn\\linear_model\\logistic.py:469: FutureWarning: Default multi_class will be changed to 'auto' in 0.22. Specify the multi_class option to silence this warning.\n",
      "  \"this warning.\", FutureWarning)\n"
     ]
    },
    {
     "name": "stdout",
     "output_type": "stream",
     "text": [
      "size:  1.2 Accuracy score 0.6976702611770257\n"
     ]
    },
    {
     "name": "stderr",
     "output_type": "stream",
     "text": [
      "C:\\ProgramData\\Anaconda3\\lib\\site-packages\\sklearn\\linear_model\\logistic.py:432: FutureWarning: Default solver will be changed to 'lbfgs' in 0.22. Specify a solver to silence this warning.\n",
      "  FutureWarning)\n",
      "C:\\ProgramData\\Anaconda3\\lib\\site-packages\\sklearn\\linear_model\\logistic.py:469: FutureWarning: Default multi_class will be changed to 'auto' in 0.22. Specify the multi_class option to silence this warning.\n",
      "  \"this warning.\", FutureWarning)\n"
     ]
    },
    {
     "name": "stdout",
     "output_type": "stream",
     "text": [
      "size:  1.3 Accuracy score 0.6961738442409856\n"
     ]
    },
    {
     "name": "stderr",
     "output_type": "stream",
     "text": [
      "C:\\ProgramData\\Anaconda3\\lib\\site-packages\\sklearn\\linear_model\\logistic.py:432: FutureWarning: Default solver will be changed to 'lbfgs' in 0.22. Specify a solver to silence this warning.\n",
      "  FutureWarning)\n",
      "C:\\ProgramData\\Anaconda3\\lib\\site-packages\\sklearn\\linear_model\\logistic.py:469: FutureWarning: Default multi_class will be changed to 'auto' in 0.22. Specify the multi_class option to silence this warning.\n",
      "  \"this warning.\", FutureWarning)\n"
     ]
    },
    {
     "name": "stdout",
     "output_type": "stream",
     "text": [
      "size:  1.4 Accuracy score 0.696935198221713\n"
     ]
    },
    {
     "name": "stderr",
     "output_type": "stream",
     "text": [
      "C:\\ProgramData\\Anaconda3\\lib\\site-packages\\sklearn\\linear_model\\logistic.py:432: FutureWarning: Default solver will be changed to 'lbfgs' in 0.22. Specify a solver to silence this warning.\n",
      "  FutureWarning)\n",
      "C:\\ProgramData\\Anaconda3\\lib\\site-packages\\sklearn\\linear_model\\logistic.py:469: FutureWarning: Default multi_class will be changed to 'auto' in 0.22. Specify the multi_class option to silence this warning.\n",
      "  \"this warning.\", FutureWarning)\n"
     ]
    },
    {
     "name": "stdout",
     "output_type": "stream",
     "text": [
      "size:  1.5 Accuracy score 0.7002315132142356\n"
     ]
    },
    {
     "name": "stderr",
     "output_type": "stream",
     "text": [
      "C:\\ProgramData\\Anaconda3\\lib\\site-packages\\sklearn\\linear_model\\logistic.py:432: FutureWarning: Default solver will be changed to 'lbfgs' in 0.22. Specify a solver to silence this warning.\n",
      "  FutureWarning)\n",
      "C:\\ProgramData\\Anaconda3\\lib\\site-packages\\sklearn\\linear_model\\logistic.py:469: FutureWarning: Default multi_class will be changed to 'auto' in 0.22. Specify the multi_class option to silence this warning.\n",
      "  \"this warning.\", FutureWarning)\n"
     ]
    },
    {
     "name": "stdout",
     "output_type": "stream",
     "text": [
      "size:  1.6 Accuracy score 0.6926845358464957\n"
     ]
    },
    {
     "name": "stderr",
     "output_type": "stream",
     "text": [
      "C:\\ProgramData\\Anaconda3\\lib\\site-packages\\sklearn\\linear_model\\logistic.py:432: FutureWarning: Default solver will be changed to 'lbfgs' in 0.22. Specify a solver to silence this warning.\n",
      "  FutureWarning)\n",
      "C:\\ProgramData\\Anaconda3\\lib\\site-packages\\sklearn\\linear_model\\logistic.py:469: FutureWarning: Default multi_class will be changed to 'auto' in 0.22. Specify the multi_class option to silence this warning.\n",
      "  \"this warning.\", FutureWarning)\n"
     ]
    },
    {
     "name": "stdout",
     "output_type": "stream",
     "text": [
      "size:  1.7 Accuracy score 0.6934660310795341\n"
     ]
    },
    {
     "name": "stderr",
     "output_type": "stream",
     "text": [
      "C:\\ProgramData\\Anaconda3\\lib\\site-packages\\sklearn\\linear_model\\logistic.py:432: FutureWarning: Default solver will be changed to 'lbfgs' in 0.22. Specify a solver to silence this warning.\n",
      "  FutureWarning)\n",
      "C:\\ProgramData\\Anaconda3\\lib\\site-packages\\sklearn\\linear_model\\logistic.py:469: FutureWarning: Default multi_class will be changed to 'auto' in 0.22. Specify the multi_class option to silence this warning.\n",
      "  \"this warning.\", FutureWarning)\n"
     ]
    },
    {
     "name": "stdout",
     "output_type": "stream",
     "text": [
      "size:  1.8 Accuracy score 0.6897891044266488\n"
     ]
    },
    {
     "name": "stderr",
     "output_type": "stream",
     "text": [
      "C:\\ProgramData\\Anaconda3\\lib\\site-packages\\sklearn\\linear_model\\logistic.py:432: FutureWarning: Default solver will be changed to 'lbfgs' in 0.22. Specify a solver to silence this warning.\n",
      "  FutureWarning)\n",
      "C:\\ProgramData\\Anaconda3\\lib\\site-packages\\sklearn\\linear_model\\logistic.py:469: FutureWarning: Default multi_class will be changed to 'auto' in 0.22. Specify the multi_class option to silence this warning.\n",
      "  \"this warning.\", FutureWarning)\n"
     ]
    },
    {
     "name": "stdout",
     "output_type": "stream",
     "text": [
      "size:  1.9 Accuracy score 0.6873894086714872\n"
     ]
    }
   ],
   "source": [
    "for i in range(0,10):\n",
    "    size=1+i/10\n",
    "    size_of_the_group=int(14847/size)\n",
    "\n",
    "    g2_prim = g2.sample(n=size_of_the_group)\n",
    "    g1_prim = g1.sample(n=size_of_the_group)\n",
    "    g3_prim = g3.sample(n=size_of_the_group)\n",
    "    g4_prim = g4.sample(n=size_of_the_group)\n",
    "    \n",
    "    frames = [g1_prim, g2_prim, g3_prim,g4_prim]\n",
    "    new_data = pd.concat(frames) #new data with equal fraction of data about every group\n",
    "    new_data = shuffle(new_data)\n",
    "    test_data=data[~data.isin(new_data)].dropna() # testing data are all data that didn t appear in the new data\n",
    "    test_data=shuffle(test_data)\n",
    "    X_train,Y_train = new_data.drop('id',axis=1), new_data['id'] \n",
    "    X_test,Y_test = test_data.drop('id',axis=1), test_data['id']\n",
    "    \n",
    "    model=LogisticRegression()\n",
    "    model.fit(X_train,Y_train)\n",
    "    \n",
    "    predictions = model.predict(X_test)\n",
    "    print('size: ', size,'Accuracy score',accuracy_score(Y_test, predictions))"
   ]
  },
  {
   "cell_type": "markdown",
   "metadata": {},
   "source": [
    "### Conclusion : group size doesn't seem to change anything in terms of accuracy"
   ]
  },
  {
   "cell_type": "markdown",
   "metadata": {},
   "source": [
    "Maybe different proportions : instead of 25% x 4\n",
    "maybe 30% 30% 30% and 10%"
   ]
  }
 ],
 "metadata": {
  "kernelspec": {
   "display_name": "Python 3",
   "language": "python",
   "name": "python3"
  },
  "language_info": {
   "codemirror_mode": {
    "name": "ipython",
    "version": 3
   },
   "file_extension": ".py",
   "mimetype": "text/x-python",
   "name": "python",
   "nbconvert_exporter": "python",
   "pygments_lexer": "ipython3",
   "version": "3.6.8"
  }
 },
 "nbformat": 4,
 "nbformat_minor": 2
}

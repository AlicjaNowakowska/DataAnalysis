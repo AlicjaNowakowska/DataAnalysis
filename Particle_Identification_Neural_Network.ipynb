{
 "cells": [
  {
   "cell_type": "markdown",
   "metadata": {},
   "source": [
    "# Particle identification model : Attempt 2 Neural network"
   ]
  },
  {
   "cell_type": "code",
   "execution_count": 16,
   "metadata": {},
   "outputs": [],
   "source": [
    "from __future__ import print_function\n",
    "import pandas as pd\n",
    "import numpy as np\n",
    "from sklearn import preprocessing\n",
    "import matplotlib.pyplot as plt \n",
    "from sklearn.linear_model import LogisticRegression\n",
    "from sklearn.model_selection import train_test_split\n",
    "import seaborn as sns\n",
    "import numpy as np\n",
    "from keras.datasets import mnist\n",
    "from keras.models import Sequential\n",
    "from keras.layers.core import Dense, Activation, Dropout\n",
    "from keras.optimizers import SGD\n",
    "from keras.utils import np_utils\n",
    "from keras.optimizers import RMSprop, Adam\n",
    "from sklearn.metrics import classification_report\n",
    "from sklearn.metrics import confusion_matrix,accuracy_score\n",
    "from sklearn.utils import shuffle\n",
    "import scikitplot as skplt \n",
    "import keras"
   ]
  },
  {
   "cell_type": "code",
   "execution_count": 56,
   "metadata": {},
   "outputs": [],
   "source": [
    "data=pd.read_csv('particle_data.csv')\n",
    "data[data.id == 211] = 0\n",
    "data[data.id == -11] = 1\n",
    "data[data.id == 321] = 2\n",
    "data[data.id == 2212] = 3"
   ]
  },
  {
   "cell_type": "code",
   "execution_count": 57,
   "metadata": {},
   "outputs": [],
   "source": [
    "data = shuffle(data)\n",
    "X_train,X_test,Y_train,Y_test = train_test_split(data.drop('id',axis=1), data['id'],test_size=0.2,random_state=0)"
   ]
  },
  {
   "cell_type": "code",
   "execution_count": 58,
   "metadata": {},
   "outputs": [],
   "source": [
    "NB_EPOCH = 2 # ile razy ćwiczyć sieć dla danego podzbioru danych\n",
    "BATCH_SIZE = 32 #wielkość podzbioru\n",
    "VERBOSE = 1\n",
    "NB_CLASSES = 4 # number of outputs = number of digits\n",
    "OPTIMIZER = Adam() \n",
    "N_HIDDEN = 6\n",
    "VALIDATION_SPLIT=0.2 # how much TRAIN is reserved for VALIDATION\n",
    "\n",
    "Y_train = np_utils.to_categorical(Y_train, NB_CLASSES)\n",
    "Y_test = np_utils.to_categorical(Y_test, NB_CLASSES)"
   ]
  },
  {
   "cell_type": "code",
   "execution_count": 59,
   "metadata": {},
   "outputs": [
    {
     "name": "stdout",
     "output_type": "stream",
     "text": [
      "_________________________________________________________________\n",
      "Layer (type)                 Output Shape              Param #   \n",
      "=================================================================\n",
      "dense_13 (Dense)             (None, 6)                 42        \n",
      "_________________________________________________________________\n",
      "activation_13 (Activation)   (None, 6)                 0         \n",
      "_________________________________________________________________\n",
      "dense_14 (Dense)             (None, 4)                 28        \n",
      "_________________________________________________________________\n",
      "activation_14 (Activation)   (None, 4)                 0         \n",
      "=================================================================\n",
      "Total params: 70\n",
      "Trainable params: 70\n",
      "Non-trainable params: 0\n",
      "_________________________________________________________________\n",
      "Train on 3200000 samples, validate on 800000 samples\n",
      "Epoch 1/2\n",
      "3200000/3200000 [==============================] - 279s 87us/step - loss: 0.0143 - acc: 0.9962 - val_loss: 1.1921e-07 - val_acc: 1.0000\n",
      "Epoch 2/2\n",
      "3200000/3200000 [==============================] - 268s 84us/step - loss: 1.1921e-07 - acc: 1.0000 - val_loss: 1.1921e-07 - val_acc: 1.0000\n"
     ]
    }
   ],
   "source": [
    "model = Sequential()\n",
    "model.add(Dense(N_HIDDEN, input_shape=(6,))) #iN +HIDDEN\n",
    "model.add(Activation('relu')) #IN -> RELU(IN)-> HIDDEN\n",
    "model.add(Dense(NB_CLASSES)) #OUT\n",
    "model.add(Activation('softmax'))\n",
    "model.summary()\n",
    "\n",
    "model.compile(loss='categorical_crossentropy', optimizer=OPTIMIZER, metrics=['accuracy'])\n",
    "history = model.fit(X_train, Y_train, batch_size=BATCH_SIZE, epochs=NB_EPOCH, verbose=VERBOSE, \n",
    "                    validation_split=VALIDATION_SPLIT)"
   ]
  },
  {
   "cell_type": "markdown",
   "metadata": {},
   "source": [
    "### Analysis of the performance of the model"
   ]
  },
  {
   "cell_type": "code",
   "execution_count": 60,
   "metadata": {},
   "outputs": [
    {
     "name": "stdout",
     "output_type": "stream",
     "text": [
      "1000000/1000000 [==============================] - 33s 33us/step\n",
      "Accuracy score for test data:  1.0\n",
      "4000000/4000000 [==============================] - 138s 35us/step\n",
      "Accuracy score for training data:  1.0\n"
     ]
    }
   ],
   "source": [
    "score = model.evaluate(X_test, Y_test, verbose=VERBOSE)\n",
    "print('Accuracy score for test data: ',score[1])    \n",
    "score = model.evaluate(X_train, Y_train, verbose=VERBOSE)\n",
    "print('Accuracy score for training data: ',score[1])    "
   ]
  },
  {
   "cell_type": "code",
   "execution_count": 74,
   "metadata": {},
   "outputs": [],
   "source": [
    "predictions = model.predict_classes(X_test)\n",
    "from numpy import argmax\n",
    "Y_test_undo=argmax(Y_test,axis=-1)"
   ]
  },
  {
   "cell_type": "markdown",
   "metadata": {},
   "source": [
    "### Confusion matrix for test data"
   ]
  },
  {
   "cell_type": "code",
   "execution_count": 76,
   "metadata": {},
   "outputs": [
    {
     "name": "stdout",
     "output_type": "stream",
     "text": [
      "              precision    recall  f1-score   support\n",
      "\n",
      "           0       1.00      1.00      1.00    562072\n",
      "           1       1.00      1.00      1.00      2993\n",
      "           2       1.00      1.00      1.00     46381\n",
      "           3       1.00      1.00      1.00    388554\n",
      "\n",
      "    accuracy                           1.00   1000000\n",
      "   macro avg       1.00      1.00      1.00   1000000\n",
      "weighted avg       1.00      1.00      1.00   1000000\n",
      "\n"
     ]
    }
   ],
   "source": [
    "print(classification_report(Y_test_undo, predictions))"
   ]
  },
  {
   "cell_type": "code",
   "execution_count": 70,
   "metadata": {},
   "outputs": [
    {
     "data": {
      "text/plain": [
       "<matplotlib.axes._subplots.AxesSubplot at 0x2869128f8d0>"
      ]
     },
     "execution_count": 70,
     "metadata": {},
     "output_type": "execute_result"
    },
    {
     "data": {
      "image/png": "[encoded data removed]",
      "text/plain": [
       "<Figure size 432x288 with 2 Axes>"
      ]
     },
     "metadata": {
      "needs_background": "light"
     },
     "output_type": "display_data"
    }
   ],
   "source": [
    "skplt.metrics.plot_confusion_matrix(Y_test_undo, predictions, normalize=True)"
   ]
  },
  {
   "cell_type": "markdown",
   "metadata": {},
   "source": [
    "### Confusion matrix for training data"
   ]
  },
  {
   "cell_type": "code",
   "execution_count": 71,
   "metadata": {},
   "outputs": [
    {
     "data": {
      "text/plain": [
       "<matplotlib.axes._subplots.AxesSubplot at 0x286918e3f60>"
      ]
     },
     "execution_count": 71,
     "metadata": {},
     "output_type": "execute_result"
    },
    {
     "data": {
      "image/png": "[encoded data removed]",
      "text/plain": [
       "<Figure size 432x288 with 2 Axes>"
      ]
     },
     "metadata": {
      "needs_background": "light"
     },
     "output_type": "display_data"
    }
   ],
   "source": [
    "predictions = model.predict_classes(X_train)\n",
    "from numpy import argmax\n",
    "Y_train_undo=argmax(Y_train,axis=-1)\n",
    "skplt.metrics.plot_confusion_matrix(Y_train_undo, predictions, normalize=True)"
   ]
  },
  {
   "cell_type": "markdown",
   "metadata": {},
   "source": [
    "## Conclusions:\n",
    "* <b> Wonderful performance </b>\n",
    "* <b> Distniguish well all types of particles </b>\n",
    "* <b> doesn't need a lot of layers one hidden is enough, doesn't need many epochs 2 are fine\n",
    "* <b> it works so good because the data size is large </b>"
   ]
  }
 ],
 "metadata": {
  "kernelspec": {
   "display_name": "Python 3",
   "language": "python",
   "name": "python3"
  },
  "language_info": {
   "codemirror_mode": {
    "name": "ipython",
    "version": 3
   },
   "file_extension": ".py",
   "mimetype": "text/x-python",
   "name": "python",
   "nbconvert_exporter": "python",
   "pygments_lexer": "ipython3",
   "version": "3.6.8"
  }
 },
 "nbformat": 4,
 "nbformat_minor": 2
}
